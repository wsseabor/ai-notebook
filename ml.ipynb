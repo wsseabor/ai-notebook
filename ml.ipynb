{
 "cells": [
  {
   "cell_type": "code",
   "execution_count": 17,
   "id": "6320c38d-b376-4808-8523-4e0c1496dd41",
   "metadata": {},
   "outputs": [],
   "source": [
    "import numpy as np\n",
    "import matplotlib.pyplot as plt\n",
    "%matplotlib inline\n",
    "import scipy.special"
   ]
  },
  {
   "cell_type": "code",
   "execution_count": 18,
   "id": "feee8ded-0701-420f-8f73-4f44884c168e",
   "metadata": {},
   "outputs": [],
   "source": [
    "#Neural net class that sets the size and shape of the network array\n",
    "class net:\n",
    "    def __init__(self, iNodes, hNodes, oNodes, lRate):\n",
    "        #init variable number of input, output, hidden nodes, learning rate\n",
    "        self.iNodes = iNodes\n",
    "        self.hNodes = hNodes\n",
    "        self.oNodes = oNodes\n",
    "        self.lRate = lRate\n",
    "        \n",
    "        #Weight input hidden, weight hidden output\n",
    "        #Randomly cast weights under normal distribution\n",
    "        self.wih = np.random.normal(0.0, pow(self.hNodes, -0.5), (self.hNodes, self.iNodes))\n",
    "        self.who = np.random.normal(0.0, pow(self.oNodes, -0.5), (self.oNodes, self.hNodes))\n",
    "        \n",
    "        #Sigmoid function cast to anonymous function\n",
    "        self.sigmoid = lambda x: scipy.special.expit(x)\n",
    "        \n",
    "        pass\n",
    "    \n",
    "    #Method conducting the feed forward pass\n",
    "    def query(self, inputList):\n",
    "        #Conversion to array matrix\n",
    "        inputs = np.array(inputList, ndmin = 2).T\n",
    "        \n",
    "        #Dot product of hidden inputs X hidden weight\n",
    "        hiddenInputs = np.dot(self.wih, inputs)\n",
    "        \n",
    "        #Outputs run through sigmoid function\n",
    "        hiddenOutputs = self.sigmoid(hiddenInputs)\n",
    "        \n",
    "        #Dot product of hidden outputs X weights\n",
    "        finalInputs = np.dot(self.who, hiddenOutputs)\n",
    "        \n",
    "        #Final outputs run through sigmoid function\n",
    "        finalOutputs = self.sigmoid(finalInputs)\n",
    "        \n",
    "        return finalOutputs\n",
    "    \n",
    "    #Method conducting error sampling and refinement\n",
    "    def train(self, inputList, targetList):\n",
    "        \n",
    "        #Initial input list and target values transposed to numpy array\n",
    "        inputs = np.array(inputList, ndmin = 2).T\n",
    "        targets = np.array(targetList, ndmin = 2).T\n",
    "        \n",
    "        #Hidden layer summation, activation function\n",
    "        hiddenInputs = np.dot(self.wih, inputs)\n",
    "        hiddenOutputs = self.sigmoid(hiddenInputs)\n",
    "        \n",
    "        #Final output layer summation, activation function\n",
    "        finalInputs = np.dot(self.who, hiddenOutputs)\n",
    "        finalOutputs = self.sigmoid(finalInputs)\n",
    "        \n",
    "        #Calculate error\n",
    "        outputError = targets - finalOutputs\n",
    "        \n",
    "        #Transpose error to numpy array\n",
    "        hiddenError = np.dot(self.who.T, outputError)\n",
    "        \n",
    "        #Refine error\n",
    "        self.who += self.lRate * np.dot((outputError * finalOutputs * (1.0 - finalOutputs)), np.transpose(hiddenOutputs))\n",
    "        self.wih += self.lRate * np.dot((hiddenError * hiddenOutputs * (1.0 - hiddenOutputs)), np.transpose(inputs))\n",
    "        \n",
    "        pass"
   ]
  },
  {
   "cell_type": "code",
   "execution_count": 19,
   "id": "59b174c3-446f-48e9-94c4-cd10c36afe01",
   "metadata": {},
   "outputs": [],
   "source": [
    "#Define input nodes, hidden layer nodes, output nodes\n",
    "#Inputs as 784 (28 * 28) data features for given img\n",
    "inputs = 784\n",
    "hiddens = 100\n",
    "outputs = 10\n",
    "\n",
    "#Define learning rate\n",
    "rate = 0.3\n",
    "\n",
    "#Init neural net class object\n",
    "n = net(inputs, hiddens, outputs, rate)\n",
    "\n",
    "#Open training CSV file, read\n",
    "trainFile = open(\"mnist_dataset/mnist_train.csv\", 'r')\n",
    "trainList = trainFile.readlines()\n",
    "trainFile.close()\n",
    "\n",
    "#Initial transposition of target / input values to numpy array \n",
    "for r in trainList:\n",
    "    values = r.split(',')\n",
    "    inputs = (np.asfarray(values[1:]) / 255.0 * 0.99) + 0.01\n",
    "    targets = np.zeros(outputs) + 0.01\n",
    "    targets[int(values[0])] = 0.99\n",
    "    n.train(inputs, targets)\n",
    "    pass"
   ]
  },
  {
   "cell_type": "code",
   "execution_count": 20,
   "id": "cc12d048-7f01-4608-9abd-18e6d6ed2f6b",
   "metadata": {},
   "outputs": [],
   "source": [
    "#Define training epochs\n",
    "epochs = 10\n",
    "\n",
    "#Inner loop to conduct multiple training epochs\n",
    "for i in range (epochs):\n",
    "    for record in trainList:\n",
    "        values = record.split(',')\n",
    "        inputs = (np.asfarray(values[1:]) / 255.0 * 0.99) + 0.01\n",
    "        targets = np.zeros(outputs) + 0.01\n",
    "        targets[int(values[0])] = 0.99\n",
    "        n.train(inputs, targets)\n",
    "        pass\n",
    "    pass\n",
    "    "
   ]
  },
  {
   "cell_type": "code",
   "execution_count": 21,
   "id": "90aceb44-9c7e-4bea-8084-80206a337316",
   "metadata": {},
   "outputs": [],
   "source": [
    "dataFile = open(\"mnist_dataset/mnist_test.csv\", 'r')\n",
    "dataList = dataFile.readlines()\n",
    "dataFile.close()\n",
    "\n",
    "#values = dataList[0].split(',')\n",
    "#imArr = np.asfarray(values[1:]).reshape((28, 28))\n",
    "#plt.imshow(imArr, cmap='Greys', interpolation='None')\n"
   ]
  },
  {
   "cell_type": "code",
   "execution_count": 22,
   "id": "31f41965-3351-4451-8358-27db1a616d08",
   "metadata": {},
   "outputs": [
    {
     "name": "stdout",
     "output_type": "stream",
     "text": [
      "Performance =  0.9498\n"
     ]
    },
    {
     "data": {
      "image/png": "[encoded data removed]",
      "text/plain": [
       "<Figure size 432x288 with 1 Axes>"
      ]
     },
     "metadata": {
      "needs_background": "light"
     },
     "output_type": "display_data"
    }
   ],
   "source": [
    "#Tally for correct network outputs\n",
    "correct = []\n",
    "\n",
    "for r in dataList:\n",
    "    vals = r.split(',')\n",
    "    targetLabel = int(vals[0])\n",
    "    #print(targetLabel, \"Target label\")\n",
    "    inputs = (np.asfarray(vals[1:]) / 255.9 * 0.99) + 0.01\n",
    "    outputs = n.query(inputs)\n",
    "    label = np.argmax(outputs)\n",
    "    #print(label, \"Network response\")\n",
    "    if (label == targetLabel):\n",
    "        correct.append(1)\n",
    "    else:\n",
    "        correct.append(0)\n",
    "        pass\n",
    "    pass\n",
    "\n",
    "correctArray = np.asarray(correct)\n",
    "print(\"Performance = \", correctArray.sum() / correctArray.size)\n",
    "\n",
    "performance = (correctArray.sum() / correctArray.size)\n",
    "\n",
    "plt.plot(performance, rate)\n",
    "plt.ylabel(\"Performance\")\n",
    "plt.xlabel(\"Learning rate\")\n",
    "plt.show()\n",
    "        "
   ]
  }
 ],
 "metadata": {
  "kernelspec": {
   "display_name": "Python 3 (ipykernel)",
   "language": "python",
   "name": "python3"
  },
  "language_info": {
   "codemirror_mode": {
    "name": "ipython",
    "version": 3
   },
   "file_extension": ".py",
   "mimetype": "text/x-python",
   "name": "python",
   "nbconvert_exporter": "python",
   "pygments_lexer": "ipython3",
   "version": "3.10.2"
  }
 },
 "nbformat": 4,
 "nbformat_minor": 5
}
