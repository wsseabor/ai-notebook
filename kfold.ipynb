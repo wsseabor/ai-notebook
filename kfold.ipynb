{
 "cells": [
  {
   "cell_type": "code",
   "execution_count": 10,
   "id": "1d0d8478-0fd6-464c-89a7-6aef4f929617",
   "metadata": {},
   "outputs": [],
   "source": [
    "import numpy as np\n",
    "from keras.datasets import boston_housing\n",
    "from keras import models\n",
    "from keras import layers\n",
    "from keras import losses\n",
    "from keras import metrics\n",
    "from keras import optimizers"
   ]
  },
  {
   "cell_type": "code",
   "execution_count": 11,
   "id": "e3029ef0-a1fe-43cd-a09b-ecaa1579de62",
   "metadata": {},
   "outputs": [
    {
     "data": {
      "text/plain": [
       "(404, 13)"
      ]
     },
     "execution_count": 11,
     "metadata": {},
     "output_type": "execute_result"
    }
   ],
   "source": [
    "(trainData, trainTargets), (testData, testTargets) = boston_housing.load_data()\n",
    "\n",
    "trainData.shape"
   ]
  },
  {
   "cell_type": "code",
   "execution_count": 12,
   "id": "1580eda5-bd40-4ec3-a36e-a6a0abb15336",
   "metadata": {},
   "outputs": [],
   "source": [
    "#Normalize data\n",
    "mean = trainData.mean(axis=0)\n",
    "trainData -= mean\n",
    "std = trainData.std(axis=0)\n",
    "trainData /= std\n",
    "\n",
    "testData -= mean\n",
    "testData /= std"
   ]
  },
  {
   "cell_type": "code",
   "execution_count": 14,
   "id": "348f9b08-a66d-4cad-9598-5745dabd9268",
   "metadata": {},
   "outputs": [],
   "source": [
    "def buildModel():\n",
    "    model = models.Sequential()\n",
    "    model.add(layers.Dense(64, activation=\"relu\", input_shape=(trainData.shape[1],)))\n",
    "    model.add(layers.Dense(64, activation=\"relu\"))\n",
    "    model.add(layers.Dense(1))\n",
    "    model.compile(optimizer=\"rmsprop\", loss=\"mse\", metrics=[\"mae\"])\n",
    "    return model\n"
   ]
  },
  {
   "cell_type": "code",
   "execution_count": 17,
   "id": "8bf218ac-199c-447c-bfe2-b21d464c94f5",
   "metadata": {},
   "outputs": [
    {
     "name": "stdout",
     "output_type": "stream",
     "text": [
      "processing fold # 0\n",
      "processing fold # 1\n",
      "processing fold # 2\n",
      "processing fold # 3\n"
     ]
    }
   ],
   "source": [
    "k = 4\n",
    "numValSamples = len(trainData) // k\n",
    "numEpochs = 100\n",
    "allScores = []\n",
    "\n",
    "for i in range(k):\n",
    "    print(\"processing fold #\", i)\n",
    "    valData = trainData[i * numValSamples: (i + 1) * numValSamples]\n",
    "    valTargets = trainTargets[i * numValSamples: (i + 1) * numValSamples]\n",
    "    \n",
    "    partialTrainData = np.concatenate(\n",
    "        [trainData[:i * numValSamples],\n",
    "         trainData[(i + 1) * numValSamples:]],\n",
    "        axis = 0)\n",
    "    partialTrainTargets = np.concatenate(\n",
    "        [trainTargets[:i * numValSamples],\n",
    "         trainTargets[(i + 1) * numValSamples:]],\n",
    "        axis = 0)\n",
    "    \n",
    "    model = buildModel()\n",
    "    model.fit(partialTrainData, partialTrainTargets, epochs = numEpochs, batch_size = 1, verbose = 0)\n",
    "    valMse, valMae = model.evaluate(valData, valTargets, verbose = 0)\n",
    "    allScores.append(valMae)\n",
    "    \n"
   ]
  },
  {
   "cell_type": "code",
   "execution_count": null,
   "id": "1ec2c330-56a7-47d2-adae-a9f956a46140",
   "metadata": {},
   "outputs": [],
   "source": []
  }
 ],
 "metadata": {
  "kernelspec": {
   "display_name": "Python 3 (ipykernel)",
   "language": "python",
   "name": "python3"
  },
  "language_info": {
   "codemirror_mode": {
    "name": "ipython",
    "version": 3
   },
   "file_extension": ".py",
   "mimetype": "text/x-python",
   "name": "python",
   "nbconvert_exporter": "python",
   "pygments_lexer": "ipython3",
   "version": "3.10.2"
  }
 },
 "nbformat": 4,
 "nbformat_minor": 5
}
