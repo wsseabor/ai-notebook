{
 "cells": [
  {
   "cell_type": "code",
   "execution_count": 43,
   "id": "1d0d8478-0fd6-464c-89a7-6aef4f929617",
   "metadata": {},
   "outputs": [],
   "source": [
    "import numpy as np\n",
    "from keras.datasets import boston_housing\n",
    "from keras import models\n",
    "from keras import layers\n",
    "from keras import losses\n",
    "from keras import metrics\n",
    "from keras import optimizers"
   ]
  },
  {
   "cell_type": "code",
   "execution_count": 44,
   "id": "e3029ef0-a1fe-43cd-a09b-ecaa1579de62",
   "metadata": {},
   "outputs": [
    {
     "data": {
      "text/plain": [
       "(404, 13)"
      ]
     },
     "execution_count": 44,
     "metadata": {},
     "output_type": "execute_result"
    }
   ],
   "source": [
    "#Load data\n",
    "(trainData, trainTargets), (testData, testTargets) = boston_housing.load_data()\n",
    "\n",
    "#Get a feel\n",
    "trainData.shape\n"
   ]
  },
  {
   "cell_type": "code",
   "execution_count": 45,
   "id": "1580eda5-bd40-4ec3-a36e-a6a0abb15336",
   "metadata": {},
   "outputs": [],
   "source": [
    "#Normalize data\n",
    "mean = trainData.mean(axis=0)\n",
    "trainData -= mean\n",
    "std = trainData.std(axis=0)\n",
    "trainData /= std\n",
    "\n",
    "testData -= mean\n",
    "testData /= std"
   ]
  },
  {
   "cell_type": "code",
   "execution_count": 46,
   "id": "348f9b08-a66d-4cad-9598-5745dabd9268",
   "metadata": {},
   "outputs": [],
   "source": [
    "def buildModel():\n",
    "    model = models.Sequential()\n",
    "    model.add(layers.Dense(64, activation=\"relu\", input_shape=(trainData.shape[1],)))\n",
    "    model.add(layers.Dense(64, activation=\"relu\"))\n",
    "    model.add(layers.Dense(1))\n",
    "    model.compile(optimizer=\"rmsprop\", loss=\"mse\", metrics=[\"mae\"])\n",
    "    return model\n"
   ]
  },
  {
   "cell_type": "code",
   "execution_count": 47,
   "id": "8bf218ac-199c-447c-bfe2-b21d464c94f5",
   "metadata": {},
   "outputs": [
    {
     "name": "stdout",
     "output_type": "stream",
     "text": [
      "processing fold # 0\n",
      "processing fold # 1\n",
      "processing fold # 2\n",
      "processing fold # 3\n"
     ]
    },
    {
     "data": {
      "text/plain": [
       "2.571161377310753"
      ]
     },
     "execution_count": 47,
     "metadata": {},
     "output_type": "execute_result"
    }
   ],
   "source": [
    "#Declare number of partitions \n",
    "k = 4\n",
    "\n",
    "#numValSamples splits the training data into n partitions with floor division\n",
    "#Evaluates to 101\n",
    "numValSamples = len(trainData) // k\n",
    "\n",
    "#However many you like\n",
    "numEpochs = 500\n",
    "\n",
    "#Empty list for scores\n",
    "allScores = []\n",
    "\n",
    "#Loop through each partition\n",
    "for i in range(k):\n",
    "    print(\"processing fold #\", i)\n",
    "    \n",
    "    #Slice for each partition, i.e., (0 * numValSamples : 1 * numValSamples) evaluates as (0 : 101)\n",
    "    #Second pass (1 * numValSamples : 2 * numValSamples) evaluates as (101 : 202) \n",
    "    #And so on\n",
    "    valData = trainData[i * numValSamples: (i + 1) * numValSamples]\n",
    "    \n",
    "    #Repeat the same for our validation targets\n",
    "    valTargets = trainTargets[i * numValSamples: (i + 1) * numValSamples]\n",
    "    \n",
    "    #Partition our validation data in much the same manner\n",
    "    partialTrainData = np.concatenate(\n",
    "        [trainData[:i * numValSamples],\n",
    "         trainData[(i + 1) * numValSamples:]],\n",
    "        axis = 0)\n",
    "    partialTrainTargets = np.concatenate(\n",
    "        [trainTargets[:i * numValSamples],\n",
    "         trainTargets[(i + 1) * numValSamples:]],\n",
    "        axis = 0)\n",
    "    \n",
    "    #Build, fit, evaluate model with mean absolute error appeneded to the empty scores list\n",
    "    model = buildModel()\n",
    "    history = model.fit(partialTrainData, partialTrainTargets, validation_data=(valData, valTargets), epochs = numEpochs, batch_size = 1, verbose = 0)\n",
    "    maeHistory = history.history['val_mae']\n",
    "    allScores.append(maeHistory)\n",
    "    #valMse, valMae = model.evaluate(valData, valTargets, verbose = 0)\n",
    "    #allScores.append(valMae)\n",
    "\n",
    "#How much we're off by\n",
    "np.mean(allScores)\n",
    "    \n"
   ]
  },
  {
   "cell_type": "code",
   "execution_count": null,
   "id": "1ec2c330-56a7-47d2-adae-a9f956a46140",
   "metadata": {},
   "outputs": [],
   "source": []
  }
 ],
 "metadata": {
  "kernelspec": {
   "display_name": "Python 3 (ipykernel)",
   "language": "python",
   "name": "python3"
  },
  "language_info": {
   "codemirror_mode": {
    "name": "ipython",
    "version": 3
   },
   "file_extension": ".py",
   "mimetype": "text/x-python",
   "name": "python",
   "nbconvert_exporter": "python",
   "pygments_lexer": "ipython3",
   "version": "3.10.2"
  }
 },
 "nbformat": 4,
 "nbformat_minor": 5
}
