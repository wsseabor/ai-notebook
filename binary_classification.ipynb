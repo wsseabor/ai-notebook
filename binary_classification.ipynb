{
 "cells": [
  {
   "cell_type": "code",
   "execution_count": 1,
   "id": "b08fedf6-8238-4db4-9473-5b9e040e6e6f",
   "metadata": {},
   "outputs": [
    {
     "name": "stderr",
     "output_type": "stream",
     "text": [
      "2023-10-06 20:54:36.538872: I tensorflow/core/platform/cpu_feature_guard.cc:182] This TensorFlow binary is optimized to use available CPU instructions in performance-critical operations.\n",
      "To enable the following instructions: AVX2 AVX512F AVX512_VNNI FMA, in other operations, rebuild TensorFlow with the appropriate compiler flags.\n"
     ]
    }
   ],
   "source": [
    "import numpy as np\n",
    "import tensorflow as tf"
   ]
  },
  {
   "cell_type": "code",
   "execution_count": 2,
   "id": "3bf8f09c-dca2-436c-beb9-f7b7eea7043c",
   "metadata": {},
   "outputs": [],
   "source": [
    "from keras.datasets import imdb\n",
    "from keras import models\n",
    "from keras import layers\n",
    "from keras import losses\n",
    "from keras import metrics\n",
    "from keras import optimizers"
   ]
  },
  {
   "cell_type": "code",
   "execution_count": 3,
   "id": "8037a0e8-1cc4-41d6-938d-29484c59d64a",
   "metadata": {},
   "outputs": [
    {
     "name": "stdout",
     "output_type": "stream",
     "text": [
      "25000\n"
     ]
    },
    {
     "data": {
      "text/plain": [
       "array([0., 1., 1., ..., 0., 0., 0.])"
      ]
     },
     "execution_count": 3,
     "metadata": {},
     "output_type": "execute_result"
    }
   ],
   "source": [
    "#Load training and test data\n",
    "(trainData, trainLabels), (testData, testLabels) = imdb.load_data(num_words = 10000)\n",
    "\n",
    "#Transform test and training data to vectors for inputs\n",
    "def vectorize(sequences, ndmin=10000):\n",
    "    results = np.zeros((len(sequences), ndmin))\n",
    "    for i, sequence in enumerate(sequences):\n",
    "        results[i, sequence] = 1\n",
    "    return results\n",
    "\n",
    "#Input training data vectorized\n",
    "xTrain = vectorize(trainData)\n",
    "xTest = vectorize(testData)\n",
    "\n",
    "#Test labels as scalars\n",
    "yTrain = np.asarray(trainLabels).astype('float32')\n",
    "yTest = np.asarray(testLabels).astype('float32')\n",
    "\n",
    "#Test print to ensure working\n",
    "print(len(xTrain))\n",
    "xTrain[0]"
   ]
  },
  {
   "cell_type": "code",
   "execution_count": 4,
   "id": "ab3f44c9-f9b3-49b5-8799-d51f269323b9",
   "metadata": {},
   "outputs": [
    {
     "name": "stdout",
     "output_type": "stream",
     "text": [
      "Epoch 1/20\n",
      "30/30 [==============================] - 3s 75ms/step - loss: 0.5635 - acc: 0.7611 - val_loss: 0.4442 - val_acc: 0.8620\n",
      "Epoch 2/20\n",
      "30/30 [==============================] - 0s 16ms/step - loss: 0.3684 - acc: 0.8895 - val_loss: 0.3405 - val_acc: 0.8841\n",
      "Epoch 3/20\n",
      "30/30 [==============================] - 0s 14ms/step - loss: 0.2747 - acc: 0.9147 - val_loss: 0.3136 - val_acc: 0.8787\n",
      "Epoch 4/20\n",
      "30/30 [==============================] - 0s 16ms/step - loss: 0.2191 - acc: 0.9307 - val_loss: 0.2885 - val_acc: 0.8846\n",
      "Epoch 5/20\n",
      "30/30 [==============================] - 0s 15ms/step - loss: 0.1832 - acc: 0.9417 - val_loss: 0.2779 - val_acc: 0.8888\n",
      "Epoch 6/20\n",
      "30/30 [==============================] - 0s 15ms/step - loss: 0.1578 - acc: 0.9490 - val_loss: 0.2852 - val_acc: 0.8862\n",
      "Epoch 7/20\n",
      "30/30 [==============================] - 0s 15ms/step - loss: 0.1376 - acc: 0.9573 - val_loss: 0.2834 - val_acc: 0.8863\n",
      "Epoch 8/20\n",
      "30/30 [==============================] - 0s 15ms/step - loss: 0.1195 - acc: 0.9649 - val_loss: 0.3002 - val_acc: 0.8831\n",
      "Epoch 9/20\n",
      "30/30 [==============================] - 0s 14ms/step - loss: 0.1018 - acc: 0.9719 - val_loss: 0.3055 - val_acc: 0.8840\n",
      "Epoch 10/20\n",
      "30/30 [==============================] - 0s 14ms/step - loss: 0.0907 - acc: 0.9741 - val_loss: 0.3196 - val_acc: 0.8831\n",
      "Epoch 11/20\n",
      "30/30 [==============================] - 0s 14ms/step - loss: 0.0785 - acc: 0.9797 - val_loss: 0.3425 - val_acc: 0.8793\n",
      "Epoch 12/20\n",
      "30/30 [==============================] - 0s 16ms/step - loss: 0.0660 - acc: 0.9841 - val_loss: 0.3695 - val_acc: 0.8725\n",
      "Epoch 13/20\n",
      "30/30 [==============================] - 0s 15ms/step - loss: 0.0586 - acc: 0.9861 - val_loss: 0.3779 - val_acc: 0.8782\n",
      "Epoch 14/20\n",
      "30/30 [==============================] - 0s 15ms/step - loss: 0.0513 - acc: 0.9880 - val_loss: 0.3868 - val_acc: 0.8776\n",
      "Epoch 15/20\n",
      "30/30 [==============================] - 0s 16ms/step - loss: 0.0424 - acc: 0.9914 - val_loss: 0.4276 - val_acc: 0.8739\n",
      "Epoch 16/20\n",
      "30/30 [==============================] - 0s 16ms/step - loss: 0.0375 - acc: 0.9930 - val_loss: 0.4254 - val_acc: 0.8735\n",
      "Epoch 17/20\n",
      "30/30 [==============================] - 1s 19ms/step - loss: 0.0311 - acc: 0.9947 - val_loss: 0.4452 - val_acc: 0.8746\n",
      "Epoch 18/20\n",
      "30/30 [==============================] - 0s 15ms/step - loss: 0.0260 - acc: 0.9967 - val_loss: 0.4862 - val_acc: 0.8670\n",
      "Epoch 19/20\n",
      "30/30 [==============================] - 0s 16ms/step - loss: 0.0231 - acc: 0.9970 - val_loss: 0.4894 - val_acc: 0.8722\n",
      "Epoch 20/20\n",
      "30/30 [==============================] - 0s 15ms/step - loss: 0.0191 - acc: 0.9981 - val_loss: 0.5216 - val_acc: 0.8715\n"
     ]
    },
    {
     "data": {
      "image/png": "[encoded data removed]",
      "text/plain": [
       "<Figure size 432x288 with 1 Axes>"
      ]
     },
     "metadata": {
      "needs_background": "light"
     },
     "output_type": "display_data"
    }
   ],
   "source": [
    "#Set up model\n",
    "model = models.Sequential()\n",
    "model.add(layers.Dense(16, activation='relu', input_shape=(10000,)))\n",
    "model.add(layers.Dense(16, activation='relu'))\n",
    "model.add(layers.Dense(1, activation='sigmoid'))\n",
    "model.compile(optimizer=\"rmsprop\", loss = \"binary_crossentropy\", metrics = [\"acc\"])\n",
    "\n",
    "xVal = xTrain[:10000]\n",
    "partialX = xTrain[10000:]\n",
    "yVal = yTrain[:10000]\n",
    "partialY = yTrain[10000:]\n",
    "\n",
    "history = model.fit(partialX, partialY, epochs = 20, batch_size = 512, validation_data = (xVal, yVal))\n",
    "\n",
    "import matplotlib.pyplot as plt\n",
    "\n",
    "history = history.history\n",
    "history.keys()\n",
    "losses = history['loss']\n",
    "valLosses = history['val_loss']\n",
    "acc = history['acc']\n",
    "\n",
    "epochs = range(1, len(acc) + 1)\n",
    "\n",
    "plt.plot(epochs, losses, 'bo', label='Training Loss')\n",
    "plt.plot(epochs, valLosses, 'b', label='Validation Loss')\n",
    "plt.title('Training and validation Losses')\n",
    "plt.xlabel('Epochs')\n",
    "plt.ylabel('Losses')\n",
    "plt.legend()\n",
    "plt.show()\n",
    "              \n",
    "\n"
   ]
  },
  {
   "cell_type": "code",
   "execution_count": 5,
   "id": "bafcb36f-caf7-44d5-8b28-b40f526bf274",
   "metadata": {},
   "outputs": [],
   "source": [
    "#Our model begins to underfit after around 3 epochs, and subsequently cannot accurately model training data\n",
    "#We can try out some different techniques and parameter tunings to get this model working a bit better"
   ]
  },
  {
   "cell_type": "code",
   "execution_count": 6,
   "id": "16299248-c7bf-404e-a8c9-81f2c7685cb2",
   "metadata": {},
   "outputs": [
    {
     "name": "stdout",
     "output_type": "stream",
     "text": [
      "Epoch 1/20\n",
      "30/30 [==============================] - 2s 50ms/step - loss: 0.6441 - acc: 0.6121 - val_loss: 0.5619 - val_acc: 0.7972\n",
      "Epoch 2/20\n",
      "30/30 [==============================] - 1s 25ms/step - loss: 0.5437 - acc: 0.7393 - val_loss: 0.4734 - val_acc: 0.8608\n",
      "Epoch 3/20\n",
      "30/30 [==============================] - 1s 18ms/step - loss: 0.4636 - acc: 0.8074 - val_loss: 0.3790 - val_acc: 0.8795\n",
      "Epoch 4/20\n",
      "30/30 [==============================] - 0s 17ms/step - loss: 0.4019 - acc: 0.8475 - val_loss: 0.3339 - val_acc: 0.8848\n",
      "Epoch 5/20\n",
      "30/30 [==============================] - 0s 16ms/step - loss: 0.3523 - acc: 0.8738 - val_loss: 0.3043 - val_acc: 0.8852\n",
      "Epoch 6/20\n",
      "30/30 [==============================] - 0s 16ms/step - loss: 0.3133 - acc: 0.8904 - val_loss: 0.2863 - val_acc: 0.8878\n",
      "Epoch 7/20\n",
      "30/30 [==============================] - 0s 16ms/step - loss: 0.2816 - acc: 0.9050 - val_loss: 0.2907 - val_acc: 0.8858\n",
      "Epoch 8/20\n",
      "30/30 [==============================] - 0s 17ms/step - loss: 0.2518 - acc: 0.9159 - val_loss: 0.2770 - val_acc: 0.8889\n",
      "Epoch 9/20\n",
      "30/30 [==============================] - 1s 18ms/step - loss: 0.2266 - acc: 0.9245 - val_loss: 0.2830 - val_acc: 0.8857\n",
      "Epoch 10/20\n",
      "30/30 [==============================] - 1s 19ms/step - loss: 0.2021 - acc: 0.9343 - val_loss: 0.3031 - val_acc: 0.8872\n",
      "Epoch 11/20\n",
      "30/30 [==============================] - 0s 17ms/step - loss: 0.1886 - acc: 0.9373 - val_loss: 0.3018 - val_acc: 0.8865\n",
      "Epoch 12/20\n",
      "30/30 [==============================] - 0s 17ms/step - loss: 0.1711 - acc: 0.9431 - val_loss: 0.3221 - val_acc: 0.8862\n",
      "Epoch 13/20\n",
      "30/30 [==============================] - 0s 17ms/step - loss: 0.1582 - acc: 0.9478 - val_loss: 0.3356 - val_acc: 0.8869\n",
      "Epoch 14/20\n",
      "30/30 [==============================] - 1s 19ms/step - loss: 0.1424 - acc: 0.9521 - val_loss: 0.3623 - val_acc: 0.8845\n",
      "Epoch 15/20\n",
      "30/30 [==============================] - 1s 18ms/step - loss: 0.1320 - acc: 0.9575 - val_loss: 0.3650 - val_acc: 0.8858\n",
      "Epoch 16/20\n",
      "30/30 [==============================] - 1s 21ms/step - loss: 0.1190 - acc: 0.9596 - val_loss: 0.4129 - val_acc: 0.8812\n",
      "Epoch 17/20\n",
      "30/30 [==============================] - 1s 20ms/step - loss: 0.1121 - acc: 0.9607 - val_loss: 0.4192 - val_acc: 0.8855\n",
      "Epoch 18/20\n",
      "30/30 [==============================] - 1s 18ms/step - loss: 0.1026 - acc: 0.9658 - val_loss: 0.4468 - val_acc: 0.8841\n",
      "Epoch 19/20\n",
      "30/30 [==============================] - 1s 18ms/step - loss: 0.0993 - acc: 0.9638 - val_loss: 0.4603 - val_acc: 0.8807\n",
      "Epoch 20/20\n",
      "30/30 [==============================] - 1s 18ms/step - loss: 0.0922 - acc: 0.9667 - val_loss: 0.4515 - val_acc: 0.8863\n"
     ]
    },
    {
     "data": {
      "image/png": "[encoded data removed]",
      "text/plain": [
       "<Figure size 432x288 with 1 Axes>"
      ]
     },
     "metadata": {
      "needs_background": "light"
     },
     "output_type": "display_data"
    }
   ],
   "source": [
    "#Amending the previous model with dropout\n",
    "#Dropout applies to a layer a random zero value in the output during training\n",
    "#Introducing noise in the form of zero values in output layer can break up happenstance patterns that are not significant\n",
    "\n",
    "#Define and compile a new model with dropout \n",
    "dropoutModel = models.Sequential()\n",
    "dropoutModel.add(layers.Dense(16, activation='relu', input_shape=(10000,)))\n",
    "dropoutModel.add(layers.Dropout(0.5))\n",
    "dropoutModel.add(layers.Dense(16, activation='relu'))\n",
    "dropoutModel.add(layers.Dropout(0.5))\n",
    "dropoutModel.add(layers.Dense(1, activation='sigmoid'))\n",
    "dropoutModel.compile(optimizer='rmsprop', loss='binary_crossentropy', metrics=['acc'])\n",
    "\n",
    "#Obtain relavent stats in the history\n",
    "history = dropoutModel.fit(partialX, partialY, epochs=20, batch_size=512, validation_data=(xVal, yVal))\n",
    "\n",
    "history = history.history\n",
    "history.keys()\n",
    "dropoutLosses = history['loss']\n",
    "dropoutValLosses = history['val_loss']\n",
    "dropoutAcc = history['acc']\n",
    "\n",
    "epochs = range(1, len(acc) + 1)\n",
    "\n",
    "plt.plot(epochs, losses, 'bo', label='Training Loss')\n",
    "plt.plot(epochs, valLosses, 'b', label='Validation Loss')\n",
    "plt.title('Training and validation Losses with dropout')\n",
    "plt.xlabel('Epochs')\n",
    "plt.ylabel('Losses')\n",
    "plt.legend()\n",
    "plt.show()"
   ]
  },
  {
   "cell_type": "code",
   "execution_count": 7,
   "id": "cd7df3b9-1cb3-4db4-aa5b-20f43525d71e",
   "metadata": {},
   "outputs": [],
   "source": [
    "#Both models seem to severely underfit (wherein a model is unable to accurately model the training data)\n",
    "#Let's try reducing the epochs"
   ]
  },
  {
   "cell_type": "code",
   "execution_count": 8,
   "id": "cbc29c4d-aa5f-45d8-bdcc-594115af9bc9",
   "metadata": {},
   "outputs": [
    {
     "name": "stdout",
     "output_type": "stream",
     "text": [
      "Epoch 1/10\n",
      "30/30 [==============================] - 2s 51ms/step - loss: 0.5438 - acc: 0.7853 - val_loss: 0.4240 - val_acc: 0.8488\n",
      "Epoch 2/10\n",
      "30/30 [==============================] - 1s 24ms/step - loss: 0.3485 - acc: 0.8863 - val_loss: 0.3314 - val_acc: 0.8798\n",
      "Epoch 3/10\n",
      "30/30 [==============================] - 1s 17ms/step - loss: 0.2621 - acc: 0.9113 - val_loss: 0.2919 - val_acc: 0.8860\n",
      "Epoch 4/10\n",
      "30/30 [==============================] - 1s 18ms/step - loss: 0.2123 - acc: 0.9300 - val_loss: 0.3067 - val_acc: 0.8732\n",
      "Epoch 5/10\n",
      "30/30 [==============================] - 1s 17ms/step - loss: 0.1804 - acc: 0.9402 - val_loss: 0.2825 - val_acc: 0.8863\n",
      "Epoch 6/10\n",
      "30/30 [==============================] - 1s 18ms/step - loss: 0.1547 - acc: 0.9505 - val_loss: 0.2811 - val_acc: 0.8864\n",
      "Epoch 7/10\n",
      "30/30 [==============================] - 1s 19ms/step - loss: 0.1328 - acc: 0.9599 - val_loss: 0.2945 - val_acc: 0.8831\n",
      "Epoch 8/10\n",
      "30/30 [==============================] - 1s 19ms/step - loss: 0.1158 - acc: 0.9644 - val_loss: 0.2988 - val_acc: 0.8857\n",
      "Epoch 9/10\n",
      "30/30 [==============================] - 1s 20ms/step - loss: 0.1005 - acc: 0.9693 - val_loss: 0.3166 - val_acc: 0.8842\n",
      "Epoch 10/10\n",
      "30/30 [==============================] - 1s 19ms/step - loss: 0.0850 - acc: 0.9770 - val_loss: 0.3354 - val_acc: 0.8756\n"
     ]
    }
   ],
   "source": [
    "model = models.Sequential()\n",
    "model.add(layers.Dense(16, activation='relu', input_shape=(10000,)))\n",
    "model.add(layers.Dense(16, activation='relu'))\n",
    "model.add(layers.Dense(1, activation='sigmoid'))\n",
    "model.compile(optimizer=\"rmsprop\", loss = \"binary_crossentropy\", metrics = [\"acc\"])\n",
    "\n",
    "xVal = xTrain[:10000]\n",
    "partialX = xTrain[10000:]\n",
    "yVal = yTrain[:10000]\n",
    "partialY = yTrain[10000:]\n",
    "\n",
    "history = model.fit(partialX, partialY, epochs = 10, batch_size = 512, validation_data = (xVal, yVal))\n",
    "\n",
    "import matplotlib.pyplot as plt\n",
    "\n",
    "history = history.history\n",
    "history.keys()\n",
    "losses = history['loss']\n",
    "valLosses = history['val_loss']\n",
    "acc = history['acc']"
   ]
  },
  {
   "cell_type": "code",
   "execution_count": 9,
   "id": "1a59f257-5f47-43d1-a6db-332a85521a95",
   "metadata": {},
   "outputs": [
    {
     "name": "stdout",
     "output_type": "stream",
     "text": [
      "Epoch 1/10\n",
      "30/30 [==============================] - 2s 58ms/step - loss: 0.6331 - acc: 0.6306 - val_loss: 0.5191 - val_acc: 0.8473\n",
      "Epoch 2/10\n",
      "30/30 [==============================] - 1s 22ms/step - loss: 0.5109 - acc: 0.7716 - val_loss: 0.4132 - val_acc: 0.8669\n",
      "Epoch 3/10\n",
      "30/30 [==============================] - 1s 19ms/step - loss: 0.4337 - acc: 0.8261 - val_loss: 0.3539 - val_acc: 0.8815\n",
      "Epoch 4/10\n",
      "30/30 [==============================] - 1s 21ms/step - loss: 0.3720 - acc: 0.8631 - val_loss: 0.3207 - val_acc: 0.8748\n",
      "Epoch 5/10\n",
      "30/30 [==============================] - 1s 22ms/step - loss: 0.3312 - acc: 0.8841 - val_loss: 0.2900 - val_acc: 0.8901\n",
      "Epoch 6/10\n",
      "30/30 [==============================] - 1s 20ms/step - loss: 0.2896 - acc: 0.9024 - val_loss: 0.2827 - val_acc: 0.8905\n",
      "Epoch 7/10\n",
      "30/30 [==============================] - 1s 19ms/step - loss: 0.2606 - acc: 0.9153 - val_loss: 0.2759 - val_acc: 0.8912\n",
      "Epoch 8/10\n",
      "30/30 [==============================] - 1s 19ms/step - loss: 0.2301 - acc: 0.9245 - val_loss: 0.2820 - val_acc: 0.8902\n",
      "Epoch 9/10\n",
      "30/30 [==============================] - 1s 22ms/step - loss: 0.2041 - acc: 0.9345 - val_loss: 0.2878 - val_acc: 0.8902\n",
      "Epoch 10/10\n",
      "30/30 [==============================] - 1s 22ms/step - loss: 0.1892 - acc: 0.9420 - val_loss: 0.3026 - val_acc: 0.8885\n"
     ]
    },
    {
     "data": {
      "image/png": "[encoded data removed]",
      "text/plain": [
       "<Figure size 432x288 with 1 Axes>"
      ]
     },
     "metadata": {
      "needs_background": "light"
     },
     "output_type": "display_data"
    },
    {
     "data": {
      "image/png": "[encoded data removed]",
      "text/plain": [
       "<Figure size 432x288 with 1 Axes>"
      ]
     },
     "metadata": {
      "needs_background": "light"
     },
     "output_type": "display_data"
    }
   ],
   "source": [
    "dropoutModel = models.Sequential()\n",
    "dropoutModel.add(layers.Dense(16, activation='relu', input_shape=(10000,)))\n",
    "dropoutModel.add(layers.Dropout(0.5))\n",
    "dropoutModel.add(layers.Dense(16, activation='relu'))\n",
    "dropoutModel.add(layers.Dropout(0.5))\n",
    "dropoutModel.add(layers.Dense(1, activation='sigmoid'))\n",
    "dropoutModel.compile(optimizer='rmsprop', loss='binary_crossentropy', metrics=['acc'])\n",
    "\n",
    "#Obtain relavent stats in the history\n",
    "history = dropoutModel.fit(partialX, partialY, epochs=10, batch_size=512, validation_data=(xVal, yVal))\n",
    "\n",
    "history = history.history\n",
    "history.keys()\n",
    "dropoutLosses = history['loss']\n",
    "dropoutValLosses = history['val_loss']\n",
    "dropoutAcc = history['acc']\n",
    "\n",
    "epochs = range(1, len(acc) + 1)\n",
    "\n",
    "#Plot\n",
    "plt.plot(epochs, dropoutLosses, 'bo', label='Training Loss')\n",
    "plt.plot(epochs, dropoutValLosses, 'b', label='Validation Loss')\n",
    "plt.title('Training and validation Losses')\n",
    "plt.xlabel('Epochs')\n",
    "plt.ylabel('Losses')\n",
    "plt.legend()\n",
    "plt.show()\n",
    "\n",
    "plt.plot(epochs, losses, 'bo', label='Training Loss')\n",
    "plt.plot(epochs, valLosses, 'b', label='Validation Loss')\n",
    "plt.title('Training and validation Losses with dropout')\n",
    "plt.xlabel('Epochs')\n",
    "plt.ylabel('Losses')\n",
    "plt.legend()\n",
    "plt.show()\n",
    "\n"
   ]
  },
  {
   "cell_type": "code",
   "execution_count": 10,
   "id": "06bda7d8-0ba6-4dc1-afcf-fa18949e0ac0",
   "metadata": {},
   "outputs": [],
   "source": [
    "#Seems we acheived a much better fit with less epochs on the standard model, however the dropout model\n",
    "#yet needs more tuning as it is still underfitting, though not as drastically as with epochs set to 20"
   ]
  }
 ],
 "metadata": {
  "kernelspec": {
   "display_name": "Python 3 (ipykernel)",
   "language": "python",
   "name": "python3"
  },
  "language_info": {
   "codemirror_mode": {
    "name": "ipython",
    "version": 3
   },
   "file_extension": ".py",
   "mimetype": "text/x-python",
   "name": "python",
   "nbconvert_exporter": "python",
   "pygments_lexer": "ipython3",
   "version": "3.10.2"
  }
 },
 "nbformat": 4,
 "nbformat_minor": 5
}
