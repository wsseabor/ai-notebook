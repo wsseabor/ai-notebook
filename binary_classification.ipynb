{
 "cells": [
  {
   "cell_type": "code",
   "execution_count": 43,
   "id": "b08fedf6-8238-4db4-9473-5b9e040e6e6f",
   "metadata": {},
   "outputs": [],
   "source": [
    "import numpy as np\n",
    "import tensorflow as tf"
   ]
  },
  {
   "cell_type": "code",
   "execution_count": 44,
   "id": "3bf8f09c-dca2-436c-beb9-f7b7eea7043c",
   "metadata": {},
   "outputs": [],
   "source": [
    "from keras.datasets import imdb\n",
    "from keras import models\n",
    "from keras import layers\n",
    "from keras import losses\n",
    "from keras import metrics\n",
    "from keras import optimizers"
   ]
  },
  {
   "cell_type": "code",
   "execution_count": 45,
   "id": "8037a0e8-1cc4-41d6-938d-29484c59d64a",
   "metadata": {},
   "outputs": [
    {
     "name": "stdout",
     "output_type": "stream",
     "text": [
      "25000\n"
     ]
    },
    {
     "data": {
      "text/plain": [
       "array([0., 1., 1., ..., 0., 0., 0.])"
      ]
     },
     "execution_count": 45,
     "metadata": {},
     "output_type": "execute_result"
    }
   ],
   "source": [
    "#Load training and test data\n",
    "(trainData, trainLabels), (testData, testLabels) = imdb.load_data(num_words = 10000)\n",
    "\n",
    "#Transform test and training data to vectors for inputs\n",
    "def vectorize(sequences, ndmin=10000):\n",
    "    results = np.zeros((len(sequences), ndmin))\n",
    "    for i, sequence in enumerate(sequences):\n",
    "        results[i, sequence] = 1\n",
    "    return results\n",
    "\n",
    "#Input training data vectorized\n",
    "xTrain = vectorize(trainData)\n",
    "xTest = vectorize(testData)\n",
    "\n",
    "#Test labels as scalars\n",
    "yTrain = np.asarray(trainLabels).astype('float32')\n",
    "yTest = np.asarray(testLabels).astype('float32')\n",
    "\n",
    "#Test print to ensure working\n",
    "print(len(xTrain))\n",
    "xTrain[0]"
   ]
  },
  {
   "cell_type": "code",
   "execution_count": 46,
   "id": "ab3f44c9-f9b3-49b5-8799-d51f269323b9",
   "metadata": {},
   "outputs": [
    {
     "name": "stdout",
     "output_type": "stream",
     "text": [
      "Epoch 1/20\n",
      "30/30 [==============================] - 3s 90ms/step - loss: 0.5601 - acc: 0.7547 - val_loss: 0.4469 - val_acc: 0.8247\n",
      "Epoch 2/20\n",
      "30/30 [==============================] - 1s 17ms/step - loss: 0.3584 - acc: 0.8865 - val_loss: 0.3346 - val_acc: 0.8792\n",
      "Epoch 3/20\n",
      "30/30 [==============================] - 0s 16ms/step - loss: 0.2673 - acc: 0.9127 - val_loss: 0.3000 - val_acc: 0.8830\n",
      "Epoch 4/20\n",
      "30/30 [==============================] - 1s 18ms/step - loss: 0.2143 - acc: 0.9301 - val_loss: 0.2783 - val_acc: 0.8912\n",
      "Epoch 5/20\n",
      "30/30 [==============================] - 0s 16ms/step - loss: 0.1833 - acc: 0.9385 - val_loss: 0.2777 - val_acc: 0.8916\n",
      "Epoch 6/20\n",
      "30/30 [==============================] - 0s 16ms/step - loss: 0.1550 - acc: 0.9510 - val_loss: 0.3121 - val_acc: 0.8749\n",
      "Epoch 7/20\n",
      "30/30 [==============================] - 0s 16ms/step - loss: 0.1350 - acc: 0.9563 - val_loss: 0.2887 - val_acc: 0.8870\n",
      "Epoch 8/20\n",
      "30/30 [==============================] - 0s 16ms/step - loss: 0.1150 - acc: 0.9661 - val_loss: 0.2984 - val_acc: 0.8857\n",
      "Epoch 9/20\n",
      "30/30 [==============================] - 0s 16ms/step - loss: 0.1022 - acc: 0.9701 - val_loss: 0.3125 - val_acc: 0.8846\n",
      "Epoch 10/20\n",
      "30/30 [==============================] - 1s 18ms/step - loss: 0.0862 - acc: 0.9763 - val_loss: 0.3292 - val_acc: 0.8805\n",
      "Epoch 11/20\n",
      "30/30 [==============================] - 0s 17ms/step - loss: 0.0756 - acc: 0.9803 - val_loss: 0.3525 - val_acc: 0.8760\n",
      "Epoch 12/20\n",
      "30/30 [==============================] - 1s 17ms/step - loss: 0.0658 - acc: 0.9844 - val_loss: 0.3717 - val_acc: 0.8799\n",
      "Epoch 13/20\n",
      "30/30 [==============================] - 0s 16ms/step - loss: 0.0563 - acc: 0.9875 - val_loss: 0.3840 - val_acc: 0.8758\n",
      "Epoch 14/20\n",
      "30/30 [==============================] - 0s 16ms/step - loss: 0.0495 - acc: 0.9893 - val_loss: 0.4065 - val_acc: 0.8785\n",
      "Epoch 15/20\n",
      "30/30 [==============================] - 1s 17ms/step - loss: 0.0413 - acc: 0.9922 - val_loss: 0.4249 - val_acc: 0.8758\n",
      "Epoch 16/20\n",
      "30/30 [==============================] - 0s 17ms/step - loss: 0.0352 - acc: 0.9937 - val_loss: 0.4789 - val_acc: 0.8753\n",
      "Epoch 17/20\n",
      "30/30 [==============================] - 0s 17ms/step - loss: 0.0307 - acc: 0.9951 - val_loss: 0.4697 - val_acc: 0.8709\n",
      "Epoch 18/20\n",
      "30/30 [==============================] - 1s 17ms/step - loss: 0.0269 - acc: 0.9955 - val_loss: 0.4954 - val_acc: 0.8726\n",
      "Epoch 19/20\n",
      "30/30 [==============================] - 1s 20ms/step - loss: 0.0214 - acc: 0.9973 - val_loss: 0.5185 - val_acc: 0.8682\n",
      "Epoch 20/20\n",
      "30/30 [==============================] - 1s 19ms/step - loss: 0.0194 - acc: 0.9971 - val_loss: 0.5421 - val_acc: 0.8673\n"
     ]
    },
    {
     "ename": "NameError",
     "evalue": "name 'acc' is not defined",
     "output_type": "error",
     "traceback": [
      "\u001b[0;31m---------------------------------------------------------------------------\u001b[0m",
      "\u001b[0;31mNameError\u001b[0m                                 Traceback (most recent call last)",
      "Input \u001b[0;32mIn [46]\u001b[0m, in \u001b[0;36m<cell line: 22>\u001b[0;34m()\u001b[0m\n\u001b[1;32m     19\u001b[0m losses \u001b[38;5;241m=\u001b[39m history[\u001b[38;5;124m'\u001b[39m\u001b[38;5;124mloss\u001b[39m\u001b[38;5;124m'\u001b[39m]\n\u001b[1;32m     20\u001b[0m valLosses \u001b[38;5;241m=\u001b[39m history[\u001b[38;5;124m'\u001b[39m\u001b[38;5;124mval_loss\u001b[39m\u001b[38;5;124m'\u001b[39m]\n\u001b[0;32m---> 22\u001b[0m epochs \u001b[38;5;241m=\u001b[39m \u001b[38;5;28mrange\u001b[39m(\u001b[38;5;241m1\u001b[39m, \u001b[38;5;28mlen\u001b[39m(\u001b[43macc\u001b[49m) \u001b[38;5;241m+\u001b[39m \u001b[38;5;241m1\u001b[39m)\n\u001b[1;32m     24\u001b[0m plt\u001b[38;5;241m.\u001b[39mplot(epochs, losses, \u001b[38;5;124m'\u001b[39m\u001b[38;5;124mbo\u001b[39m\u001b[38;5;124m'\u001b[39m, label\u001b[38;5;241m=\u001b[39m\u001b[38;5;124m'\u001b[39m\u001b[38;5;124mTraining Loss\u001b[39m\u001b[38;5;124m'\u001b[39m)\n\u001b[1;32m     25\u001b[0m plt\u001b[38;5;241m.\u001b[39mplot(epochs, valLosses, \u001b[38;5;124m'\u001b[39m\u001b[38;5;124mb\u001b[39m\u001b[38;5;124m'\u001b[39m, label\u001b[38;5;241m=\u001b[39m\u001b[38;5;124m'\u001b[39m\u001b[38;5;124mValidation Loss\u001b[39m\u001b[38;5;124m'\u001b[39m)\n",
      "\u001b[0;31mNameError\u001b[0m: name 'acc' is not defined"
     ]
    }
   ],
   "source": [
    "#Set up model\n",
    "model = models.Sequential()\n",
    "model.add(layers.Dense(16, activation='relu', input_shape=(10000,)))\n",
    "model.add(layers.Dense(16, activation='relu'))\n",
    "model.add(layers.Dense(1, activation='sigmoid'))\n",
    "model.compile(optimizer=\"rmsprop\", loss = \"binary_crossentropy\", metrics = [\"acc\"])\n",
    "\n",
    "xVal = xTrain[:10000]\n",
    "partialX = xTrain[10000:]\n",
    "yVal = yTrain[:10000]\n",
    "partialY = yTrain[10000:]\n",
    "\n",
    "history = model.fit(partialX, partialY, epochs = 20, batch_size = 512, validation_data = (xVal, yVal))\n",
    "\n",
    "import matplotlib.pyplot as plt\n",
    "\n",
    "history = history.history\n",
    "history.keys()\n",
    "losses = history['loss']\n",
    "valLosses = history['val_loss']\n",
    "\n",
    "epochs = range(1, len(acc) + 1)\n",
    "\n",
    "plt.plot(epochs, losses, 'bo', label='Training Loss')\n",
    "plt.plot(epochs, valLosses, 'b', label='Validation Loss')\n",
    "plt.title('Training and validation Losses')\n",
    "plt.xlabel('Epochs')\n",
    "ply.ylabel('Losses')\n",
    "plt.legend()\n",
    "plt.show()\n",
    "              "
   ]
  },
  {
   "cell_type": "code",
   "execution_count": null,
   "id": "5211488b-62d8-4267-a748-fa22b40c1519",
   "metadata": {},
   "outputs": [],
   "source": []
  }
 ],
 "metadata": {
  "kernelspec": {
   "display_name": "Python 3 (ipykernel)",
   "language": "python",
   "name": "python3"
  },
  "language_info": {
   "codemirror_mode": {
    "name": "ipython",
    "version": 3
   },
   "file_extension": ".py",
   "mimetype": "text/x-python",
   "name": "python",
   "nbconvert_exporter": "python",
   "pygments_lexer": "ipython3",
   "version": "3.10.2"
  }
 },
 "nbformat": 4,
 "nbformat_minor": 5
}
