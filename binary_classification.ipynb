{
 "cells": [
  {
   "cell_type": "code",
   "execution_count": 1,
   "id": "b08fedf6-8238-4db4-9473-5b9e040e6e6f",
   "metadata": {},
   "outputs": [
    {
     "name": "stderr",
     "output_type": "stream",
     "text": [
      "2023-06-07 15:37:27.097243: I tensorflow/core/platform/cpu_feature_guard.cc:182] This TensorFlow binary is optimized to use available CPU instructions in performance-critical operations.\n",
      "To enable the following instructions: AVX2 AVX512F AVX512_VNNI FMA, in other operations, rebuild TensorFlow with the appropriate compiler flags.\n"
     ]
    }
   ],
   "source": [
    "import numpy as np\n",
    "import tensorflow as tf"
   ]
  },
  {
   "cell_type": "code",
   "execution_count": 2,
   "id": "3bf8f09c-dca2-436c-beb9-f7b7eea7043c",
   "metadata": {},
   "outputs": [],
   "source": [
    "from keras.datasets import imdb\n",
    "from keras import models\n",
    "from keras import layers\n",
    "from keras import losses\n",
    "from keras import metrics\n",
    "from keras import optimizers"
   ]
  },
  {
   "cell_type": "code",
   "execution_count": 3,
   "id": "8037a0e8-1cc4-41d6-938d-29484c59d64a",
   "metadata": {},
   "outputs": [
    {
     "name": "stdout",
     "output_type": "stream",
     "text": [
      "25000\n"
     ]
    },
    {
     "data": {
      "text/plain": [
       "array([0., 1., 1., ..., 0., 0., 0.])"
      ]
     },
     "execution_count": 3,
     "metadata": {},
     "output_type": "execute_result"
    }
   ],
   "source": [
    "#Load training and test data\n",
    "(trainData, trainLabels), (testData, testLabels) = imdb.load_data(num_words = 10000)\n",
    "\n",
    "#Transform test and training data to vectors for inputs\n",
    "def vectorize(sequences, ndmin=10000):\n",
    "    results = np.zeros((len(sequences), ndmin))\n",
    "    for i, sequence in enumerate(sequences):\n",
    "        results[i, sequence] = 1\n",
    "    return results\n",
    "\n",
    "#Input training data vectorized\n",
    "xTrain = vectorize(trainData)\n",
    "xTest = vectorize(testData)\n",
    "\n",
    "#Test labels as scalars\n",
    "yTrain = np.asarray(trainLabels).astype('float32')\n",
    "yTest = np.asarray(testLabels).astype('float32')\n",
    "\n",
    "#Test print to ensure working\n",
    "print(len(xTrain))\n",
    "xTrain[0]"
   ]
  },
  {
   "cell_type": "code",
   "execution_count": 5,
   "id": "ab3f44c9-f9b3-49b5-8799-d51f269323b9",
   "metadata": {},
   "outputs": [
    {
     "name": "stdout",
     "output_type": "stream",
     "text": [
      "Epoch 1/20\n",
      "30/30 [==============================] - 3s 86ms/step - loss: 0.5390 - acc: 0.7721 - val_loss: 0.4199 - val_acc: 0.8591\n",
      "Epoch 2/20\n",
      "30/30 [==============================] - 1s 19ms/step - loss: 0.3411 - acc: 0.8919 - val_loss: 0.3391 - val_acc: 0.8697\n",
      "Epoch 3/20\n",
      "30/30 [==============================] - 1s 19ms/step - loss: 0.2579 - acc: 0.9141 - val_loss: 0.3087 - val_acc: 0.8803\n",
      "Epoch 4/20\n",
      "30/30 [==============================] - 0s 16ms/step - loss: 0.2121 - acc: 0.9309 - val_loss: 0.2878 - val_acc: 0.8861\n",
      "Epoch 5/20\n",
      "30/30 [==============================] - 0s 16ms/step - loss: 0.1784 - acc: 0.9407 - val_loss: 0.2741 - val_acc: 0.8890\n",
      "Epoch 6/20\n",
      "30/30 [==============================] - 1s 17ms/step - loss: 0.1514 - acc: 0.9530 - val_loss: 0.2889 - val_acc: 0.8835\n",
      "Epoch 7/20\n",
      "30/30 [==============================] - 0s 16ms/step - loss: 0.1309 - acc: 0.9594 - val_loss: 0.2912 - val_acc: 0.8853\n",
      "Epoch 8/20\n",
      "30/30 [==============================] - 0s 16ms/step - loss: 0.1138 - acc: 0.9655 - val_loss: 0.2971 - val_acc: 0.8860\n",
      "Epoch 9/20\n",
      "30/30 [==============================] - 1s 17ms/step - loss: 0.0968 - acc: 0.9725 - val_loss: 0.3076 - val_acc: 0.8866\n",
      "Epoch 10/20\n",
      "30/30 [==============================] - 0s 16ms/step - loss: 0.0833 - acc: 0.9773 - val_loss: 0.3329 - val_acc: 0.8825\n",
      "Epoch 11/20\n",
      "30/30 [==============================] - 1s 18ms/step - loss: 0.0717 - acc: 0.9813 - val_loss: 0.3473 - val_acc: 0.8751\n",
      "Epoch 12/20\n",
      "30/30 [==============================] - 1s 19ms/step - loss: 0.0608 - acc: 0.9849 - val_loss: 0.3822 - val_acc: 0.8711\n",
      "Epoch 13/20\n",
      "30/30 [==============================] - 1s 17ms/step - loss: 0.0535 - acc: 0.9879 - val_loss: 0.3715 - val_acc: 0.8787\n",
      "Epoch 14/20\n",
      "30/30 [==============================] - 0s 17ms/step - loss: 0.0459 - acc: 0.9911 - val_loss: 0.3894 - val_acc: 0.8798\n",
      "Epoch 15/20\n",
      "30/30 [==============================] - 1s 17ms/step - loss: 0.0381 - acc: 0.9924 - val_loss: 0.4183 - val_acc: 0.8765\n",
      "Epoch 16/20\n",
      "30/30 [==============================] - 0s 17ms/step - loss: 0.0313 - acc: 0.9949 - val_loss: 0.4409 - val_acc: 0.8688\n",
      "Epoch 17/20\n",
      "30/30 [==============================] - 0s 17ms/step - loss: 0.0253 - acc: 0.9971 - val_loss: 0.4530 - val_acc: 0.8731\n",
      "Epoch 18/20\n",
      "30/30 [==============================] - 0s 17ms/step - loss: 0.0225 - acc: 0.9974 - val_loss: 0.4823 - val_acc: 0.8731\n",
      "Epoch 19/20\n",
      "30/30 [==============================] - 1s 17ms/step - loss: 0.0193 - acc: 0.9977 - val_loss: 0.4968 - val_acc: 0.8709\n",
      "Epoch 20/20\n",
      "30/30 [==============================] - 1s 17ms/step - loss: 0.0158 - acc: 0.9985 - val_loss: 0.5208 - val_acc: 0.8714\n"
     ]
    },
    {
     "data": {
      "image/png": "[encoded data removed]",
      "text/plain": [
       "<Figure size 432x288 with 1 Axes>"
      ]
     },
     "metadata": {
      "needs_background": "light"
     },
     "output_type": "display_data"
    }
   ],
   "source": [
    "#Set up model\n",
    "model = models.Sequential()\n",
    "model.add(layers.Dense(16, activation='relu', input_shape=(10000,)))\n",
    "model.add(layers.Dense(16, activation='relu'))\n",
    "model.add(layers.Dense(1, activation='sigmoid'))\n",
    "model.compile(optimizer=\"rmsprop\", loss = \"binary_crossentropy\", metrics = [\"acc\"])\n",
    "\n",
    "xVal = xTrain[:10000]\n",
    "partialX = xTrain[10000:]\n",
    "yVal = yTrain[:10000]\n",
    "partialY = yTrain[10000:]\n",
    "\n",
    "history = model.fit(partialX, partialY, epochs = 20, batch_size = 512, validation_data = (xVal, yVal))\n",
    "\n",
    "import matplotlib.pyplot as plt\n",
    "\n",
    "history = history.history\n",
    "history.keys()\n",
    "losses = history['loss']\n",
    "valLosses = history['val_loss']\n",
    "acc = history['acc']\n",
    "\n",
    "epochs = range(1, len(acc) + 1)\n",
    "\n",
    "plt.plot(epochs, losses, 'bo', label='Training Loss')\n",
    "plt.plot(epochs, valLosses, 'b', label='Validation Loss')\n",
    "plt.title('Training and validation Losses')\n",
    "plt.xlabel('Epochs')\n",
    "plt.ylabel('Losses')\n",
    "plt.legend()\n",
    "plt.show()\n",
    "              \n",
    "\n"
   ]
  }
 ],
 "metadata": {
  "kernelspec": {
   "display_name": "Python 3 (ipykernel)",
   "language": "python",
   "name": "python3"
  },
  "language_info": {
   "codemirror_mode": {
    "name": "ipython",
    "version": 3
   },
   "file_extension": ".py",
   "mimetype": "text/x-python",
   "name": "python",
   "nbconvert_exporter": "python",
   "pygments_lexer": "ipython3",
   "version": "3.10.2"
  }
 },
 "nbformat": 4,
 "nbformat_minor": 5
}
