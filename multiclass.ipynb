{
 "cells": [
  {
   "cell_type": "code",
   "execution_count": 81,
   "id": "0d51a5ab-ce89-4221-92ca-ae5ae9568062",
   "metadata": {},
   "outputs": [],
   "source": [
    "import numpy as np\n",
    "import tensorflow as tf\n",
    "from keras.datasets import reuters\n",
    "from keras import models\n",
    "from keras import layers\n",
    "from keras import losses\n",
    "from keras import metrics\n",
    "from keras import optimizers\n",
    "from keras.utils.np_utils import to_categorical"
   ]
  },
  {
   "cell_type": "code",
   "execution_count": 82,
   "id": "9120bfea-4d24-400d-8c80-b6dd91c166bc",
   "metadata": {},
   "outputs": [
    {
     "name": "stdout",
     "output_type": "stream",
     "text": [
      "8982\n",
      "2246\n",
      "2246\n",
      "8982\n"
     ]
    }
   ],
   "source": [
    "#Load in preprocessed trainging and test data\n",
    "(trainData, trainLabels), (testData, testLabels) = reuters.load_data(num_words = 10000)\n",
    "\n",
    "#Test print\n",
    "print(len(trainData))\n",
    "print(len(testData))\n",
    "print(len(testLabels))\n",
    "print(len(trainLabels))"
   ]
  },
  {
   "cell_type": "code",
   "execution_count": 83,
   "id": "427eec83-f080-452f-a9cc-c3f31dca2b1f",
   "metadata": {},
   "outputs": [],
   "source": [
    "#Vectorize training and label data as tensors\n",
    "def vectorizeInput(sequences, ndmin=10000):\n",
    "    results = np.zeros((len(sequences), ndmin))\n",
    "    for i, sequence in enumerate(sequences):\n",
    "        results[i, sequence] = 1\n",
    "    return results\n",
    "\n",
    "\n",
    "\n",
    "xTrain = vectorizeInput(trainData)\n",
    "xTest = vectorizeInput(testData)\n",
    "yTrain = to_categorical(trainLabels)\n",
    "yTest = to_categorical(testLabels)"
   ]
  },
  {
   "cell_type": "code",
   "execution_count": 84,
   "id": "4b8b76fc-6cef-480e-b71e-18441e7375a7",
   "metadata": {},
   "outputs": [],
   "source": [
    "#Init the model, 64 layer dense models with softmax activation to measure the proposed / true probability distribution\n",
    "model = models.Sequential()\n",
    "model.add(layers.Dense(64, activation='relu', input_shape=(10000,)))\n",
    "model.add(layers.Dense(64, activation='relu'))\n",
    "model.add(layers.Dense(46, activation=\"softmax\"))\n",
    "model.compile(optimizer=\"rmsprop\", loss=\"categorical_crossentropy\", metrics=[\"accuracy\"])"
   ]
  },
  {
   "cell_type": "code",
   "execution_count": 85,
   "id": "e5281de2-90ce-4b8a-8e03-4d1ba5bc59e1",
   "metadata": {},
   "outputs": [
    {
     "name": "stdout",
     "output_type": "stream",
     "text": [
      "Epoch 1/20\n",
      "16/16 [==============================] - 1s 31ms/step - loss: 2.9218 - accuracy: 0.4404 - val_loss: 1.9905 - val_accuracy: 0.6040\n",
      "Epoch 2/20\n",
      "16/16 [==============================] - 0s 19ms/step - loss: 1.6244 - accuracy: 0.6684 - val_loss: 1.4218 - val_accuracy: 0.6900\n",
      "Epoch 3/20\n",
      "16/16 [==============================] - 0s 20ms/step - loss: 1.2149 - accuracy: 0.7349 - val_loss: 1.2107 - val_accuracy: 0.7380\n",
      "Epoch 4/20\n",
      "16/16 [==============================] - 0s 19ms/step - loss: 0.9903 - accuracy: 0.7869 - val_loss: 1.0884 - val_accuracy: 0.7620\n",
      "Epoch 5/20\n",
      "16/16 [==============================] - 0s 20ms/step - loss: 0.8253 - accuracy: 0.8201 - val_loss: 1.0156 - val_accuracy: 0.7760\n",
      "Epoch 6/20\n",
      "16/16 [==============================] - 0s 18ms/step - loss: 0.6841 - accuracy: 0.8528 - val_loss: 0.9728 - val_accuracy: 0.7900\n",
      "Epoch 7/20\n",
      "16/16 [==============================] - 0s 19ms/step - loss: 0.5801 - accuracy: 0.8750 - val_loss: 0.9283 - val_accuracy: 0.7960\n",
      "Epoch 8/20\n",
      "16/16 [==============================] - 0s 21ms/step - loss: 0.4823 - accuracy: 0.8996 - val_loss: 0.8728 - val_accuracy: 0.8110\n",
      "Epoch 9/20\n",
      "16/16 [==============================] - 0s 19ms/step - loss: 0.4127 - accuracy: 0.9134 - val_loss: 0.8676 - val_accuracy: 0.8180\n",
      "Epoch 10/20\n",
      "16/16 [==============================] - 0s 20ms/step - loss: 0.3481 - accuracy: 0.9240 - val_loss: 0.8351 - val_accuracy: 0.8090\n",
      "Epoch 11/20\n",
      "16/16 [==============================] - 0s 20ms/step - loss: 0.3061 - accuracy: 0.9327 - val_loss: 0.8530 - val_accuracy: 0.8070\n",
      "Epoch 12/20\n",
      "16/16 [==============================] - 0s 20ms/step - loss: 0.2622 - accuracy: 0.9402 - val_loss: 0.8504 - val_accuracy: 0.8120\n",
      "Epoch 13/20\n",
      "16/16 [==============================] - 0s 20ms/step - loss: 0.2314 - accuracy: 0.9456 - val_loss: 0.8652 - val_accuracy: 0.8100\n",
      "Epoch 14/20\n",
      "16/16 [==============================] - 0s 21ms/step - loss: 0.2078 - accuracy: 0.9494 - val_loss: 0.8435 - val_accuracy: 0.8190\n",
      "Epoch 15/20\n",
      "16/16 [==============================] - 0s 21ms/step - loss: 0.1938 - accuracy: 0.9499 - val_loss: 0.8694 - val_accuracy: 0.8210\n",
      "Epoch 16/20\n",
      "16/16 [==============================] - 0s 21ms/step - loss: 0.1777 - accuracy: 0.9509 - val_loss: 0.8710 - val_accuracy: 0.8170\n",
      "Epoch 17/20\n",
      "16/16 [==============================] - 0s 21ms/step - loss: 0.1583 - accuracy: 0.9545 - val_loss: 0.8486 - val_accuracy: 0.8130\n",
      "Epoch 18/20\n",
      "16/16 [==============================] - 0s 22ms/step - loss: 0.1534 - accuracy: 0.9533 - val_loss: 0.9084 - val_accuracy: 0.8110\n",
      "Epoch 19/20\n",
      "16/16 [==============================] - 0s 21ms/step - loss: 0.1408 - accuracy: 0.9560 - val_loss: 0.9427 - val_accuracy: 0.8120\n",
      "Epoch 20/20\n",
      "16/16 [==============================] - 0s 20ms/step - loss: 0.1381 - accuracy: 0.9582 - val_loss: 0.8874 - val_accuracy: 0.8150\n"
     ]
    }
   ],
   "source": [
    "#Train model \n",
    "xVal = xTrain[:1000]\n",
    "partialXTrain = xTrain[1000:]\n",
    "\n",
    "yVal = yTrain[:1000]\n",
    "partialYTrain = yTrain[1000:]\n",
    "\n",
    "history2 = model.fit(partialXTrain, partialYTrain, epochs=20, batch_size=512, validation_data=(xVal, yVal))"
   ]
  },
  {
   "cell_type": "code",
   "execution_count": 86,
   "id": "d71b4ede-dc45-46da-ab6b-c47af4494094",
   "metadata": {},
   "outputs": [
    {
     "data": {
      "image/png": "[encoded data removed]",
      "text/plain": [
       "<Figure size 432x288 with 1 Axes>"
      ]
     },
     "metadata": {
      "needs_background": "light"
     },
     "output_type": "display_data"
    }
   ],
   "source": [
    "#Import matplotlib for data visualization\n",
    "import matplotlib.pyplot as plt\n",
    "\n",
    "loss = history2.history['loss']\n",
    "valLoss = history2.history['val_loss']\n",
    "\n",
    "epochs = range(1, len(loss) + 1)\n",
    "plt.plot(epochs, loss, 'bo', label = 'Training Loss')\n",
    "plt.plot(epochs, valLoss, 'b', label = 'Validation Loss')\n",
    "plt.title('Training and Validation Loss')\n",
    "plt.xlabel('Epochs')\n",
    "plt.ylabel('Loss')\n",
    "plt.show()\n",
    "\n",
    "#Model begins to overfit data after ~8 or 9 epochs"
   ]
  },
  {
   "cell_type": "code",
   "execution_count": 87,
   "id": "96972ed5-12fd-4db9-acef-7b3237ac2d9b",
   "metadata": {},
   "outputs": [
    {
     "name": "stdout",
     "output_type": "stream",
     "text": [
      "Epoch 1/9\n",
      "16/16 [==============================] - 1s 32ms/step - loss: 2.7898 - accuracy: 0.4994 - val_loss: 1.8796 - val_accuracy: 0.6140\n",
      "Epoch 2/9\n",
      "16/16 [==============================] - 0s 21ms/step - loss: 1.5593 - accuracy: 0.6785 - val_loss: 1.4138 - val_accuracy: 0.6840\n",
      "Epoch 3/9\n",
      "16/16 [==============================] - 0s 21ms/step - loss: 1.2048 - accuracy: 0.7414 - val_loss: 1.2679 - val_accuracy: 0.7260\n",
      "Epoch 4/9\n",
      "16/16 [==============================] - 0s 23ms/step - loss: 0.9964 - accuracy: 0.7885 - val_loss: 1.1317 - val_accuracy: 0.7500\n",
      "Epoch 5/9\n",
      "16/16 [==============================] - 0s 22ms/step - loss: 0.8398 - accuracy: 0.8170 - val_loss: 1.0454 - val_accuracy: 0.7700\n",
      "Epoch 6/9\n",
      "16/16 [==============================] - 0s 22ms/step - loss: 0.7037 - accuracy: 0.8439 - val_loss: 1.0022 - val_accuracy: 0.7760\n",
      "Epoch 7/9\n",
      "16/16 [==============================] - 0s 21ms/step - loss: 0.5960 - accuracy: 0.8666 - val_loss: 0.9612 - val_accuracy: 0.7820\n",
      "Epoch 8/9\n",
      "16/16 [==============================] - 0s 23ms/step - loss: 0.5010 - accuracy: 0.8928 - val_loss: 0.9160 - val_accuracy: 0.8070\n",
      "Epoch 9/9\n",
      "16/16 [==============================] - 0s 22ms/step - loss: 0.4222 - accuracy: 0.9112 - val_loss: 0.8822 - val_accuracy: 0.8170\n",
      "71/71 [==============================] - 0s 984us/step - loss: 0.0000e+00 - accuracy: 0.0000e+00\n"
     ]
    }
   ],
   "source": [
    "model = models.Sequential()\n",
    "model.add(layers.Dense(64, activation=\"relu\", input_shape=(10000,)))\n",
    "model.add(layers.Dense(64, activation=\"relu\"))\n",
    "model.add(layers.Dense(46, activation=\"softmax\"))\n",
    "\n",
    "model.compile(optimizer=\"rmsprop\", loss=\"categorical_crossentropy\", metrics=[\"accuracy\"])\n",
    "\n",
    "model.fit(partialXTrain, partialYTrain, epochs=9, batch_size=512, validation_data=(xVal, yVal))\n",
    "results = model.evaluate(xTest)"
   ]
  },
  {
   "cell_type": "code",
   "execution_count": 88,
   "id": "03689242-fc0f-4e6b-9a94-086738133757",
   "metadata": {},
   "outputs": [
    {
     "data": {
      "image/png": "[encoded data removed]",
      "text/plain": [
       "<Figure size 432x288 with 1 Axes>"
      ]
     },
     "metadata": {
      "needs_background": "light"
     },
     "output_type": "display_data"
    }
   ],
   "source": [
    "loss = history.history['loss']\n",
    "valLoss = history.history['val_loss']\n",
    "\n",
    "epochs = range(1, len(loss) + 1)\n",
    "plt.plot(epochs, loss, 'bo', label = 'Training Loss')\n",
    "plt.plot(epochs, valLoss, 'b', label = 'Validation Loss')\n",
    "plt.title('Training and Validation Loss')\n",
    "plt.xlabel('Epochs')\n",
    "plt.ylabel('Loss')\n",
    "plt.show()"
   ]
  },
  {
   "cell_type": "code",
   "execution_count": null,
   "id": "a7375ff2-efb1-4ac9-a7c2-974374c9acb9",
   "metadata": {},
   "outputs": [],
   "source": []
  }
 ],
 "metadata": {
  "kernelspec": {
   "display_name": "Python 3 (ipykernel)",
   "language": "python",
   "name": "python3"
  },
  "language_info": {
   "codemirror_mode": {
    "name": "ipython",
    "version": 3
   },
   "file_extension": ".py",
   "mimetype": "text/x-python",
   "name": "python",
   "nbconvert_exporter": "python",
   "pygments_lexer": "ipython3",
   "version": "3.10.2"
  }
 },
 "nbformat": 4,
 "nbformat_minor": 5
}
