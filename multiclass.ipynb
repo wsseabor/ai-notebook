{
 "cells": [
  {
   "cell_type": "code",
   "execution_count": 28,
   "id": "0d51a5ab-ce89-4221-92ca-ae5ae9568062",
   "metadata": {},
   "outputs": [],
   "source": [
    "import numpy as np\n",
    "import tensorflow as tf\n",
    "from keras.datasets import reuters\n",
    "from keras import models\n",
    "from keras import layers\n",
    "from keras import losses\n",
    "from keras import metrics\n",
    "from keras import optimizers"
   ]
  },
  {
   "cell_type": "code",
   "execution_count": 29,
   "id": "9120bfea-4d24-400d-8c80-b6dd91c166bc",
   "metadata": {},
   "outputs": [
    {
     "name": "stdout",
     "output_type": "stream",
     "text": [
      "8982\n",
      "2246\n",
      "2246\n",
      "8982\n"
     ]
    }
   ],
   "source": [
    "#Load in preprocessed trainging and test data\n",
    "(trainData, trainLabels), (testData, testLabels) = reuters.load_data(num_words = 10000)\n",
    "\n",
    "#Test print\n",
    "print(len(trainData))\n",
    "print(len(testData))\n",
    "print(len(testLabels))\n",
    "print(len(trainLabels))"
   ]
  },
  {
   "cell_type": "code",
   "execution_count": 30,
   "id": "427eec83-f080-452f-a9cc-c3f31dca2b1f",
   "metadata": {},
   "outputs": [],
   "source": [
    "#Vectorize training and label data as tensors\n",
    "def vectorizeInput(sequences, ndmin=10000):\n",
    "    results = np.zeros((len(sequences), ndmin))\n",
    "    for i, sequence in enumerate(sequences):\n",
    "        results[i, sequence] = 1\n",
    "    return results\n",
    "\n",
    "def vectorizeCategorical(labels, ndmin=46):\n",
    "    results = np.zeros((len(labels), ndmin))\n",
    "    for i, label in enumerate(labels):\n",
    "        results[i, label] = 1\n",
    "    return results\n",
    "\n",
    "xTrain = vectorizeInput(trainData)\n",
    "xTest = vectorizeInput(testData)\n",
    "yTrain = vectorizeCategorical(trainLabels)\n",
    "yTest = vectorizeCategorical(testLabels)"
   ]
  },
  {
   "cell_type": "code",
   "execution_count": 31,
   "id": "4b8b76fc-6cef-480e-b71e-18441e7375a7",
   "metadata": {},
   "outputs": [],
   "source": [
    "#Init the model, 64 layer dense models with softmax activation to measure the proposed / true probability distribution\n",
    "model = models.Sequential()\n",
    "model.add(layers.Dense(64, activation='relu', input_shape=(10000,)))\n",
    "model.add(layers.Dense(64, activation='relu'))\n",
    "model.add(layers.Dense(46, activation=\"softmax\"))\n",
    "model.compile(optimizer=\"rmsprop\", loss=\"categorical_crossentropy\", metrics=[\"accuracy\"])"
   ]
  },
  {
   "cell_type": "code",
   "execution_count": 32,
   "id": "e5281de2-90ce-4b8a-8e03-4d1ba5bc59e1",
   "metadata": {},
   "outputs": [
    {
     "name": "stdout",
     "output_type": "stream",
     "text": [
      "Epoch 1/20\n",
      "16/16 [==============================] - 1s 32ms/step - loss: 2.7691 - accuracy: 0.5139 - val_loss: 1.8532 - val_accuracy: 0.6470\n",
      "Epoch 2/20\n",
      "16/16 [==============================] - 0s 17ms/step - loss: 1.5300 - accuracy: 0.6928 - val_loss: 1.3701 - val_accuracy: 0.6940\n",
      "Epoch 3/20\n",
      "16/16 [==============================] - 0s 19ms/step - loss: 1.1517 - accuracy: 0.7494 - val_loss: 1.1981 - val_accuracy: 0.7300\n",
      "Epoch 4/20\n",
      "16/16 [==============================] - 0s 19ms/step - loss: 0.9328 - accuracy: 0.8022 - val_loss: 1.1086 - val_accuracy: 0.7640\n",
      "Epoch 5/20\n",
      "16/16 [==============================] - 0s 18ms/step - loss: 0.7692 - accuracy: 0.8343 - val_loss: 1.0202 - val_accuracy: 0.7920\n",
      "Epoch 6/20\n",
      "16/16 [==============================] - 0s 18ms/step - loss: 0.6359 - accuracy: 0.8616 - val_loss: 0.9796 - val_accuracy: 0.7880\n",
      "Epoch 7/20\n",
      "16/16 [==============================] - 0s 18ms/step - loss: 0.5291 - accuracy: 0.8840 - val_loss: 0.9669 - val_accuracy: 0.7890\n",
      "Epoch 8/20\n",
      "16/16 [==============================] - 0s 18ms/step - loss: 0.4442 - accuracy: 0.9060 - val_loss: 0.9189 - val_accuracy: 0.8040\n",
      "Epoch 9/20\n",
      "16/16 [==============================] - 0s 18ms/step - loss: 0.3717 - accuracy: 0.9211 - val_loss: 0.9084 - val_accuracy: 0.8120\n",
      "Epoch 10/20\n",
      "16/16 [==============================] - 0s 17ms/step - loss: 0.3206 - accuracy: 0.9305 - val_loss: 0.8744 - val_accuracy: 0.8240\n",
      "Epoch 11/20\n",
      "16/16 [==============================] - 0s 20ms/step - loss: 0.2751 - accuracy: 0.9416 - val_loss: 0.8980 - val_accuracy: 0.8070\n",
      "Epoch 12/20\n",
      "16/16 [==============================] - 0s 19ms/step - loss: 0.2413 - accuracy: 0.9436 - val_loss: 0.9068 - val_accuracy: 0.8140\n",
      "Epoch 13/20\n",
      "16/16 [==============================] - 0s 18ms/step - loss: 0.2170 - accuracy: 0.9481 - val_loss: 0.9309 - val_accuracy: 0.7980\n",
      "Epoch 14/20\n",
      "16/16 [==============================] - 0s 18ms/step - loss: 0.1956 - accuracy: 0.9521 - val_loss: 0.9007 - val_accuracy: 0.8150\n",
      "Epoch 15/20\n",
      "16/16 [==============================] - 0s 19ms/step - loss: 0.1781 - accuracy: 0.9535 - val_loss: 0.9067 - val_accuracy: 0.8180\n",
      "Epoch 16/20\n",
      "16/16 [==============================] - 0s 19ms/step - loss: 0.1624 - accuracy: 0.9528 - val_loss: 0.9409 - val_accuracy: 0.8200\n",
      "Epoch 17/20\n",
      "16/16 [==============================] - 0s 20ms/step - loss: 0.1571 - accuracy: 0.9541 - val_loss: 0.9497 - val_accuracy: 0.8190\n",
      "Epoch 18/20\n",
      "16/16 [==============================] - 0s 18ms/step - loss: 0.1476 - accuracy: 0.9555 - val_loss: 0.9654 - val_accuracy: 0.8140\n",
      "Epoch 19/20\n",
      "16/16 [==============================] - 0s 19ms/step - loss: 0.1338 - accuracy: 0.9570 - val_loss: 1.0726 - val_accuracy: 0.7870\n",
      "Epoch 20/20\n",
      "16/16 [==============================] - 0s 20ms/step - loss: 0.1321 - accuracy: 0.9569 - val_loss: 0.9785 - val_accuracy: 0.8090\n"
     ]
    }
   ],
   "source": [
    "#Train model \n",
    "xVal = xTrain[:1000]\n",
    "partialXTrain = xTrain[1000:]\n",
    "\n",
    "yVal = yTrain[:1000]\n",
    "partialYTrain = yTrain[1000:]\n",
    "\n",
    "history = model.fit(partialXTrain, partialYTrain, epochs=20, batch_size=512, validation_data=(xVal, yVal))"
   ]
  },
  {
   "cell_type": "code",
   "execution_count": 33,
   "id": "d71b4ede-dc45-46da-ab6b-c47af4494094",
   "metadata": {},
   "outputs": [
    {
     "data": {
      "image/png": "[encoded data removed]",
      "text/plain": [
       "<Figure size 432x288 with 1 Axes>"
      ]
     },
     "metadata": {
      "needs_background": "light"
     },
     "output_type": "display_data"
    }
   ],
   "source": [
    "#Import matplotlib for data visualization\n",
    "import matplotlib.pyplot as plt\n",
    "\n",
    "loss = history.history['loss']\n",
    "valLoss = history.history['val_loss']\n",
    "\n",
    "epochs = range(1, len(loss) + 1)\n",
    "plt.plot(epochs, loss, 'bo', label = 'Training Loss')\n",
    "plt.plot(epochs, valLoss, 'b', label = 'Validation Loss')\n",
    "plt.title('Training and Validation Loss')\n",
    "plt.xlabel('Epochs')\n",
    "plt.ylabel('Loss')\n",
    "plt.show()\n",
    "\n",
    "#Model begins to overfit data after ~8 or 9 epochs"
   ]
  }
 ],
 "metadata": {
  "kernelspec": {
   "display_name": "Python 3 (ipykernel)",
   "language": "python",
   "name": "python3"
  },
  "language_info": {
   "codemirror_mode": {
    "name": "ipython",
    "version": 3
   },
   "file_extension": ".py",
   "mimetype": "text/x-python",
   "name": "python",
   "nbconvert_exporter": "python",
   "pygments_lexer": "ipython3",
   "version": "3.10.2"
  }
 },
 "nbformat": 4,
 "nbformat_minor": 5
}
