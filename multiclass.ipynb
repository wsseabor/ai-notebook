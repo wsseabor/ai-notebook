{
 "cells": [
  {
   "cell_type": "code",
   "execution_count": 2,
   "id": "0d51a5ab-ce89-4221-92ca-ae5ae9568062",
   "metadata": {},
   "outputs": [
    {
     "name": "stderr",
     "output_type": "stream",
     "text": [
      "2023-06-07 16:22:27.943909: I tensorflow/core/platform/cpu_feature_guard.cc:182] This TensorFlow binary is optimized to use available CPU instructions in performance-critical operations.\n",
      "To enable the following instructions: AVX2 AVX512F AVX512_VNNI FMA, in other operations, rebuild TensorFlow with the appropriate compiler flags.\n"
     ]
    }
   ],
   "source": [
    "import numpy as np\n",
    "import tensorflow as tf\n",
    "from keras.datasets import reuters\n",
    "from keras import models\n",
    "from keras import layers\n",
    "from keras import losses\n",
    "from keras import metrics\n",
    "from keras import optimizers"
   ]
  },
  {
   "cell_type": "code",
   "execution_count": 6,
   "id": "9120bfea-4d24-400d-8c80-b6dd91c166bc",
   "metadata": {},
   "outputs": [
    {
     "name": "stdout",
     "output_type": "stream",
     "text": [
      "8982\n",
      "2246\n",
      "2246\n",
      "8982\n"
     ]
    }
   ],
   "source": [
    "#Load in preprocessed trainging and test data\n",
    "(trainData, trainLabels), (testData, testLabels) = reuters.load_data(num_words = 10000)\n",
    "\n",
    "#Test print\n",
    "print(len(trainData))\n",
    "print(len(testData))\n",
    "print(len(testLabels))\n",
    "print(len(trainLabels))"
   ]
  },
  {
   "cell_type": "code",
   "execution_count": null,
   "id": "427eec83-f080-452f-a9cc-c3f31dca2b1f",
   "metadata": {},
   "outputs": [],
   "source": [
    "def vectorizeInput(sequences, ndmin=10000):\n",
    "    results = np.zeros(len(sequences, ndmin))\n",
    "    for i, sequence in enumerate(sequences):\n",
    "        results[i, sequence] = 1\n",
    "    return results\n",
    "\n",
    "def vectorizeCategorical(labels, ndmin=46):\n",
    "    results = np.zeros(len(labels), ndmin)\n",
    "    for i, label in enumerate(labels):\n",
    "        results[i, label] = 1\n",
    "    return results\n",
    "\n",
    "xTrain = vectorizeInput(trainData)\n",
    "xTest = vectorizeInput(testData)\n",
    "yTrain = vectorizeCategorical(trainLabels)\n",
    "yTest = vectorizeCategorical(testLabels)"
   ]
  },
  {
   "cell_type": "code",
   "execution_count": null,
   "id": "4b8b76fc-6cef-480e-b71e-18441e7375a7",
   "metadata": {},
   "outputs": [],
   "source": [
    "model = models.Sequential()\n",
    "model.add(layers.Dense(64, activation='relu', input_shape=(10000,)))\n",
    "model.add(layers.Dense(64, activation='relu'))\n",
    "model.add(layers.Dense(46, activation=\"softmax\"))"
   ]
  }
 ],
 "metadata": {
  "kernelspec": {
   "display_name": "Python 3 (ipykernel)",
   "language": "python",
   "name": "python3"
  },
  "language_info": {
   "codemirror_mode": {
    "name": "ipython",
    "version": 3
   },
   "file_extension": ".py",
   "mimetype": "text/x-python",
   "name": "python",
   "nbconvert_exporter": "python",
   "pygments_lexer": "ipython3",
   "version": "3.10.2"
  }
 },
 "nbformat": 4,
 "nbformat_minor": 5
}
